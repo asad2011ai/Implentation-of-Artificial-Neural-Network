{
 "cells": [
  {
   "cell_type": "code",
   "execution_count": 2,
   "metadata": {},
   "outputs": [],
   "source": [
    "import numpy as np\n",
    "import matplotlib.pyplot as plt\n",
    "import pandas as pd"
   ]
  },
  {
   "cell_type": "code",
   "execution_count": 3,
   "metadata": {},
   "outputs": [
    {
     "data": {
      "text/html": [
       "<div>\n",
       "<style scoped>\n",
       "    .dataframe tbody tr th:only-of-type {\n",
       "        vertical-align: middle;\n",
       "    }\n",
       "\n",
       "    .dataframe tbody tr th {\n",
       "        vertical-align: top;\n",
       "    }\n",
       "\n",
       "    .dataframe thead th {\n",
       "        text-align: right;\n",
       "    }\n",
       "</style>\n",
       "<table border=\"1\" class=\"dataframe\">\n",
       "  <thead>\n",
       "    <tr style=\"text-align: right;\">\n",
       "      <th></th>\n",
       "      <th>RowNumber</th>\n",
       "      <th>CustomerId</th>\n",
       "      <th>Surname</th>\n",
       "      <th>CreditScore</th>\n",
       "      <th>Geography</th>\n",
       "      <th>Gender</th>\n",
       "      <th>Age</th>\n",
       "      <th>Tenure</th>\n",
       "      <th>Balance</th>\n",
       "      <th>NumOfProducts</th>\n",
       "      <th>HasCrCard</th>\n",
       "      <th>IsActiveMember</th>\n",
       "      <th>EstimatedSalary</th>\n",
       "      <th>Exited</th>\n",
       "    </tr>\n",
       "  </thead>\n",
       "  <tbody>\n",
       "    <tr>\n",
       "      <th>0</th>\n",
       "      <td>1</td>\n",
       "      <td>15634602</td>\n",
       "      <td>Hargrave</td>\n",
       "      <td>619</td>\n",
       "      <td>France</td>\n",
       "      <td>Female</td>\n",
       "      <td>42</td>\n",
       "      <td>2</td>\n",
       "      <td>0.00</td>\n",
       "      <td>1</td>\n",
       "      <td>1</td>\n",
       "      <td>1</td>\n",
       "      <td>101348.88</td>\n",
       "      <td>1</td>\n",
       "    </tr>\n",
       "    <tr>\n",
       "      <th>1</th>\n",
       "      <td>2</td>\n",
       "      <td>15647311</td>\n",
       "      <td>Hill</td>\n",
       "      <td>608</td>\n",
       "      <td>Spain</td>\n",
       "      <td>Female</td>\n",
       "      <td>41</td>\n",
       "      <td>1</td>\n",
       "      <td>83807.86</td>\n",
       "      <td>1</td>\n",
       "      <td>0</td>\n",
       "      <td>1</td>\n",
       "      <td>112542.58</td>\n",
       "      <td>0</td>\n",
       "    </tr>\n",
       "    <tr>\n",
       "      <th>2</th>\n",
       "      <td>3</td>\n",
       "      <td>15619304</td>\n",
       "      <td>Onio</td>\n",
       "      <td>502</td>\n",
       "      <td>France</td>\n",
       "      <td>Female</td>\n",
       "      <td>42</td>\n",
       "      <td>8</td>\n",
       "      <td>159660.80</td>\n",
       "      <td>3</td>\n",
       "      <td>1</td>\n",
       "      <td>0</td>\n",
       "      <td>113931.57</td>\n",
       "      <td>1</td>\n",
       "    </tr>\n",
       "    <tr>\n",
       "      <th>3</th>\n",
       "      <td>4</td>\n",
       "      <td>15701354</td>\n",
       "      <td>Boni</td>\n",
       "      <td>699</td>\n",
       "      <td>France</td>\n",
       "      <td>Female</td>\n",
       "      <td>39</td>\n",
       "      <td>1</td>\n",
       "      <td>0.00</td>\n",
       "      <td>2</td>\n",
       "      <td>0</td>\n",
       "      <td>0</td>\n",
       "      <td>93826.63</td>\n",
       "      <td>0</td>\n",
       "    </tr>\n",
       "    <tr>\n",
       "      <th>4</th>\n",
       "      <td>5</td>\n",
       "      <td>15737888</td>\n",
       "      <td>Mitchell</td>\n",
       "      <td>850</td>\n",
       "      <td>Spain</td>\n",
       "      <td>Female</td>\n",
       "      <td>43</td>\n",
       "      <td>2</td>\n",
       "      <td>125510.82</td>\n",
       "      <td>1</td>\n",
       "      <td>1</td>\n",
       "      <td>1</td>\n",
       "      <td>79084.10</td>\n",
       "      <td>0</td>\n",
       "    </tr>\n",
       "  </tbody>\n",
       "</table>\n",
       "</div>"
      ],
      "text/plain": [
       "   RowNumber  CustomerId   Surname  CreditScore Geography  Gender  Age  \\\n",
       "0          1    15634602  Hargrave          619    France  Female   42   \n",
       "1          2    15647311      Hill          608     Spain  Female   41   \n",
       "2          3    15619304      Onio          502    France  Female   42   \n",
       "3          4    15701354      Boni          699    France  Female   39   \n",
       "4          5    15737888  Mitchell          850     Spain  Female   43   \n",
       "\n",
       "   Tenure    Balance  NumOfProducts  HasCrCard  IsActiveMember  \\\n",
       "0       2       0.00              1          1               1   \n",
       "1       1   83807.86              1          0               1   \n",
       "2       8  159660.80              3          1               0   \n",
       "3       1       0.00              2          0               0   \n",
       "4       2  125510.82              1          1               1   \n",
       "\n",
       "   EstimatedSalary  Exited  \n",
       "0        101348.88       1  \n",
       "1        112542.58       0  \n",
       "2        113931.57       1  \n",
       "3         93826.63       0  \n",
       "4         79084.10       0  "
      ]
     },
     "execution_count": 3,
     "metadata": {},
     "output_type": "execute_result"
    }
   ],
   "source": [
    "df = pd.read_csv('Churn_Modelling.csv')\n",
    "df.head()"
   ]
  },
  {
   "cell_type": "code",
   "execution_count": 8,
   "metadata": {},
   "outputs": [
    {
     "name": "stdout",
     "output_type": "stream",
     "text": [
      "row =  10000\n",
      "column =  14\n"
     ]
    }
   ],
   "source": [
    "print(\"row = \",df.shape[0])\n",
    "print(\"column = \", df.shape[1])"
   ]
  },
  {
   "cell_type": "code",
   "execution_count": 56,
   "metadata": {},
   "outputs": [],
   "source": [
    "x = df.iloc[:,3:13]\n",
    "y = df.iloc[:,13]"
   ]
  },
  {
   "cell_type": "code",
   "execution_count": 57,
   "metadata": {
    "scrolled": true
   },
   "outputs": [
    {
     "data": {
      "text/html": [
       "<div>\n",
       "<style scoped>\n",
       "    .dataframe tbody tr th:only-of-type {\n",
       "        vertical-align: middle;\n",
       "    }\n",
       "\n",
       "    .dataframe tbody tr th {\n",
       "        vertical-align: top;\n",
       "    }\n",
       "\n",
       "    .dataframe thead th {\n",
       "        text-align: right;\n",
       "    }\n",
       "</style>\n",
       "<table border=\"1\" class=\"dataframe\">\n",
       "  <thead>\n",
       "    <tr style=\"text-align: right;\">\n",
       "      <th></th>\n",
       "      <th>CreditScore</th>\n",
       "      <th>Geography</th>\n",
       "      <th>Gender</th>\n",
       "      <th>Age</th>\n",
       "      <th>Tenure</th>\n",
       "      <th>Balance</th>\n",
       "      <th>NumOfProducts</th>\n",
       "      <th>HasCrCard</th>\n",
       "      <th>IsActiveMember</th>\n",
       "      <th>EstimatedSalary</th>\n",
       "    </tr>\n",
       "  </thead>\n",
       "  <tbody>\n",
       "    <tr>\n",
       "      <th>0</th>\n",
       "      <td>619</td>\n",
       "      <td>France</td>\n",
       "      <td>Female</td>\n",
       "      <td>42</td>\n",
       "      <td>2</td>\n",
       "      <td>0.00</td>\n",
       "      <td>1</td>\n",
       "      <td>1</td>\n",
       "      <td>1</td>\n",
       "      <td>101348.88</td>\n",
       "    </tr>\n",
       "    <tr>\n",
       "      <th>1</th>\n",
       "      <td>608</td>\n",
       "      <td>Spain</td>\n",
       "      <td>Female</td>\n",
       "      <td>41</td>\n",
       "      <td>1</td>\n",
       "      <td>83807.86</td>\n",
       "      <td>1</td>\n",
       "      <td>0</td>\n",
       "      <td>1</td>\n",
       "      <td>112542.58</td>\n",
       "    </tr>\n",
       "    <tr>\n",
       "      <th>2</th>\n",
       "      <td>502</td>\n",
       "      <td>France</td>\n",
       "      <td>Female</td>\n",
       "      <td>42</td>\n",
       "      <td>8</td>\n",
       "      <td>159660.80</td>\n",
       "      <td>3</td>\n",
       "      <td>1</td>\n",
       "      <td>0</td>\n",
       "      <td>113931.57</td>\n",
       "    </tr>\n",
       "    <tr>\n",
       "      <th>3</th>\n",
       "      <td>699</td>\n",
       "      <td>France</td>\n",
       "      <td>Female</td>\n",
       "      <td>39</td>\n",
       "      <td>1</td>\n",
       "      <td>0.00</td>\n",
       "      <td>2</td>\n",
       "      <td>0</td>\n",
       "      <td>0</td>\n",
       "      <td>93826.63</td>\n",
       "    </tr>\n",
       "    <tr>\n",
       "      <th>4</th>\n",
       "      <td>850</td>\n",
       "      <td>Spain</td>\n",
       "      <td>Female</td>\n",
       "      <td>43</td>\n",
       "      <td>2</td>\n",
       "      <td>125510.82</td>\n",
       "      <td>1</td>\n",
       "      <td>1</td>\n",
       "      <td>1</td>\n",
       "      <td>79084.10</td>\n",
       "    </tr>\n",
       "  </tbody>\n",
       "</table>\n",
       "</div>"
      ],
      "text/plain": [
       "   CreditScore Geography  Gender  Age  Tenure    Balance  NumOfProducts  \\\n",
       "0          619    France  Female   42       2       0.00              1   \n",
       "1          608     Spain  Female   41       1   83807.86              1   \n",
       "2          502    France  Female   42       8  159660.80              3   \n",
       "3          699    France  Female   39       1       0.00              2   \n",
       "4          850     Spain  Female   43       2  125510.82              1   \n",
       "\n",
       "   HasCrCard  IsActiveMember  EstimatedSalary  \n",
       "0          1               1        101348.88  \n",
       "1          0               1        112542.58  \n",
       "2          1               0        113931.57  \n",
       "3          0               0         93826.63  \n",
       "4          1               1         79084.10  "
      ]
     },
     "execution_count": 57,
     "metadata": {},
     "output_type": "execute_result"
    }
   ],
   "source": [
    "x.head()"
   ]
  },
  {
   "cell_type": "code",
   "execution_count": 72,
   "metadata": {},
   "outputs": [
    {
     "data": {
      "text/plain": [
       "0    1\n",
       "1    0\n",
       "2    1\n",
       "3    0\n",
       "4    0\n",
       "Name: Exited, dtype: int64"
      ]
     },
     "execution_count": 72,
     "metadata": {},
     "output_type": "execute_result"
    }
   ],
   "source": [
    "y.head()"
   ]
  },
  {
   "cell_type": "code",
   "execution_count": 58,
   "metadata": {},
   "outputs": [
    {
     "data": {
      "text/plain": [
       "Index(['RowNumber', 'CustomerId', 'Surname', 'CreditScore', 'Geography',\n",
       "       'Gender', 'Age', 'Tenure', 'Balance', 'NumOfProducts', 'HasCrCard',\n",
       "       'IsActiveMember', 'EstimatedSalary', 'Exited'],\n",
       "      dtype='object')"
      ]
     },
     "execution_count": 58,
     "metadata": {},
     "output_type": "execute_result"
    }
   ],
   "source": [
    "df.columns"
   ]
  },
  {
   "cell_type": "code",
   "execution_count": 59,
   "metadata": {},
   "outputs": [
    {
     "data": {
      "text/html": [
       "<div>\n",
       "<style scoped>\n",
       "    .dataframe tbody tr th:only-of-type {\n",
       "        vertical-align: middle;\n",
       "    }\n",
       "\n",
       "    .dataframe tbody tr th {\n",
       "        vertical-align: top;\n",
       "    }\n",
       "\n",
       "    .dataframe thead th {\n",
       "        text-align: right;\n",
       "    }\n",
       "</style>\n",
       "<table border=\"1\" class=\"dataframe\">\n",
       "  <thead>\n",
       "    <tr style=\"text-align: right;\">\n",
       "      <th></th>\n",
       "      <th>Germany</th>\n",
       "      <th>Spain</th>\n",
       "    </tr>\n",
       "  </thead>\n",
       "  <tbody>\n",
       "    <tr>\n",
       "      <th>0</th>\n",
       "      <td>0</td>\n",
       "      <td>0</td>\n",
       "    </tr>\n",
       "    <tr>\n",
       "      <th>1</th>\n",
       "      <td>0</td>\n",
       "      <td>1</td>\n",
       "    </tr>\n",
       "    <tr>\n",
       "      <th>2</th>\n",
       "      <td>0</td>\n",
       "      <td>0</td>\n",
       "    </tr>\n",
       "    <tr>\n",
       "      <th>3</th>\n",
       "      <td>0</td>\n",
       "      <td>0</td>\n",
       "    </tr>\n",
       "    <tr>\n",
       "      <th>4</th>\n",
       "      <td>0</td>\n",
       "      <td>1</td>\n",
       "    </tr>\n",
       "  </tbody>\n",
       "</table>\n",
       "</div>"
      ],
      "text/plain": [
       "   Germany  Spain\n",
       "0        0      0\n",
       "1        0      1\n",
       "2        0      0\n",
       "3        0      0\n",
       "4        0      1"
      ]
     },
     "execution_count": 59,
     "metadata": {},
     "output_type": "execute_result"
    }
   ],
   "source": [
    "geography = pd.get_dummies(df['Geography'],drop_first=True)\n",
    "geography.head()"
   ]
  },
  {
   "cell_type": "code",
   "execution_count": 60,
   "metadata": {},
   "outputs": [
    {
     "data": {
      "text/html": [
       "<div>\n",
       "<style scoped>\n",
       "    .dataframe tbody tr th:only-of-type {\n",
       "        vertical-align: middle;\n",
       "    }\n",
       "\n",
       "    .dataframe tbody tr th {\n",
       "        vertical-align: top;\n",
       "    }\n",
       "\n",
       "    .dataframe thead th {\n",
       "        text-align: right;\n",
       "    }\n",
       "</style>\n",
       "<table border=\"1\" class=\"dataframe\">\n",
       "  <thead>\n",
       "    <tr style=\"text-align: right;\">\n",
       "      <th></th>\n",
       "      <th>Male</th>\n",
       "    </tr>\n",
       "  </thead>\n",
       "  <tbody>\n",
       "    <tr>\n",
       "      <th>0</th>\n",
       "      <td>0</td>\n",
       "    </tr>\n",
       "    <tr>\n",
       "      <th>1</th>\n",
       "      <td>0</td>\n",
       "    </tr>\n",
       "    <tr>\n",
       "      <th>2</th>\n",
       "      <td>0</td>\n",
       "    </tr>\n",
       "    <tr>\n",
       "      <th>3</th>\n",
       "      <td>0</td>\n",
       "    </tr>\n",
       "    <tr>\n",
       "      <th>4</th>\n",
       "      <td>0</td>\n",
       "    </tr>\n",
       "    <tr>\n",
       "      <th>5</th>\n",
       "      <td>1</td>\n",
       "    </tr>\n",
       "    <tr>\n",
       "      <th>6</th>\n",
       "      <td>1</td>\n",
       "    </tr>\n",
       "    <tr>\n",
       "      <th>7</th>\n",
       "      <td>0</td>\n",
       "    </tr>\n",
       "    <tr>\n",
       "      <th>8</th>\n",
       "      <td>1</td>\n",
       "    </tr>\n",
       "    <tr>\n",
       "      <th>9</th>\n",
       "      <td>1</td>\n",
       "    </tr>\n",
       "  </tbody>\n",
       "</table>\n",
       "</div>"
      ],
      "text/plain": [
       "   Male\n",
       "0     0\n",
       "1     0\n",
       "2     0\n",
       "3     0\n",
       "4     0\n",
       "5     1\n",
       "6     1\n",
       "7     0\n",
       "8     1\n",
       "9     1"
      ]
     },
     "execution_count": 60,
     "metadata": {},
     "output_type": "execute_result"
    }
   ],
   "source": [
    "gender = pd.get_dummies(df['Gender'],drop_first=True)\n",
    "gender.head(10)"
   ]
  },
  {
   "cell_type": "code",
   "execution_count": 61,
   "metadata": {},
   "outputs": [
    {
     "data": {
      "text/html": [
       "<div>\n",
       "<style scoped>\n",
       "    .dataframe tbody tr th:only-of-type {\n",
       "        vertical-align: middle;\n",
       "    }\n",
       "\n",
       "    .dataframe tbody tr th {\n",
       "        vertical-align: top;\n",
       "    }\n",
       "\n",
       "    .dataframe thead th {\n",
       "        text-align: right;\n",
       "    }\n",
       "</style>\n",
       "<table border=\"1\" class=\"dataframe\">\n",
       "  <thead>\n",
       "    <tr style=\"text-align: right;\">\n",
       "      <th></th>\n",
       "      <th>CreditScore</th>\n",
       "      <th>Geography</th>\n",
       "      <th>Gender</th>\n",
       "      <th>Age</th>\n",
       "      <th>Tenure</th>\n",
       "      <th>Balance</th>\n",
       "      <th>NumOfProducts</th>\n",
       "      <th>HasCrCard</th>\n",
       "      <th>IsActiveMember</th>\n",
       "      <th>EstimatedSalary</th>\n",
       "    </tr>\n",
       "  </thead>\n",
       "  <tbody>\n",
       "    <tr>\n",
       "      <th>0</th>\n",
       "      <td>619</td>\n",
       "      <td>France</td>\n",
       "      <td>Female</td>\n",
       "      <td>42</td>\n",
       "      <td>2</td>\n",
       "      <td>0.00</td>\n",
       "      <td>1</td>\n",
       "      <td>1</td>\n",
       "      <td>1</td>\n",
       "      <td>101348.88</td>\n",
       "    </tr>\n",
       "    <tr>\n",
       "      <th>1</th>\n",
       "      <td>608</td>\n",
       "      <td>Spain</td>\n",
       "      <td>Female</td>\n",
       "      <td>41</td>\n",
       "      <td>1</td>\n",
       "      <td>83807.86</td>\n",
       "      <td>1</td>\n",
       "      <td>0</td>\n",
       "      <td>1</td>\n",
       "      <td>112542.58</td>\n",
       "    </tr>\n",
       "    <tr>\n",
       "      <th>2</th>\n",
       "      <td>502</td>\n",
       "      <td>France</td>\n",
       "      <td>Female</td>\n",
       "      <td>42</td>\n",
       "      <td>8</td>\n",
       "      <td>159660.80</td>\n",
       "      <td>3</td>\n",
       "      <td>1</td>\n",
       "      <td>0</td>\n",
       "      <td>113931.57</td>\n",
       "    </tr>\n",
       "    <tr>\n",
       "      <th>3</th>\n",
       "      <td>699</td>\n",
       "      <td>France</td>\n",
       "      <td>Female</td>\n",
       "      <td>39</td>\n",
       "      <td>1</td>\n",
       "      <td>0.00</td>\n",
       "      <td>2</td>\n",
       "      <td>0</td>\n",
       "      <td>0</td>\n",
       "      <td>93826.63</td>\n",
       "    </tr>\n",
       "    <tr>\n",
       "      <th>4</th>\n",
       "      <td>850</td>\n",
       "      <td>Spain</td>\n",
       "      <td>Female</td>\n",
       "      <td>43</td>\n",
       "      <td>2</td>\n",
       "      <td>125510.82</td>\n",
       "      <td>1</td>\n",
       "      <td>1</td>\n",
       "      <td>1</td>\n",
       "      <td>79084.10</td>\n",
       "    </tr>\n",
       "  </tbody>\n",
       "</table>\n",
       "</div>"
      ],
      "text/plain": [
       "   CreditScore Geography  Gender  Age  Tenure    Balance  NumOfProducts  \\\n",
       "0          619    France  Female   42       2       0.00              1   \n",
       "1          608     Spain  Female   41       1   83807.86              1   \n",
       "2          502    France  Female   42       8  159660.80              3   \n",
       "3          699    France  Female   39       1       0.00              2   \n",
       "4          850     Spain  Female   43       2  125510.82              1   \n",
       "\n",
       "   HasCrCard  IsActiveMember  EstimatedSalary  \n",
       "0          1               1        101348.88  \n",
       "1          0               1        112542.58  \n",
       "2          1               0        113931.57  \n",
       "3          0               0         93826.63  \n",
       "4          1               1         79084.10  "
      ]
     },
     "execution_count": 61,
     "metadata": {},
     "output_type": "execute_result"
    }
   ],
   "source": [
    "X = pd.concat([x,geography,gender],axis =1)\n",
    "x.head()"
   ]
  },
  {
   "cell_type": "code",
   "execution_count": 62,
   "metadata": {},
   "outputs": [],
   "source": [
    "X = X.drop(['Geography','Gender'],axis=1)"
   ]
  },
  {
   "cell_type": "code",
   "execution_count": 63,
   "metadata": {},
   "outputs": [
    {
     "data": {
      "text/html": [
       "<div>\n",
       "<style scoped>\n",
       "    .dataframe tbody tr th:only-of-type {\n",
       "        vertical-align: middle;\n",
       "    }\n",
       "\n",
       "    .dataframe tbody tr th {\n",
       "        vertical-align: top;\n",
       "    }\n",
       "\n",
       "    .dataframe thead th {\n",
       "        text-align: right;\n",
       "    }\n",
       "</style>\n",
       "<table border=\"1\" class=\"dataframe\">\n",
       "  <thead>\n",
       "    <tr style=\"text-align: right;\">\n",
       "      <th></th>\n",
       "      <th>CreditScore</th>\n",
       "      <th>Age</th>\n",
       "      <th>Tenure</th>\n",
       "      <th>Balance</th>\n",
       "      <th>NumOfProducts</th>\n",
       "      <th>HasCrCard</th>\n",
       "      <th>IsActiveMember</th>\n",
       "      <th>EstimatedSalary</th>\n",
       "      <th>Germany</th>\n",
       "      <th>Spain</th>\n",
       "      <th>Male</th>\n",
       "    </tr>\n",
       "  </thead>\n",
       "  <tbody>\n",
       "    <tr>\n",
       "      <th>0</th>\n",
       "      <td>619</td>\n",
       "      <td>42</td>\n",
       "      <td>2</td>\n",
       "      <td>0.00</td>\n",
       "      <td>1</td>\n",
       "      <td>1</td>\n",
       "      <td>1</td>\n",
       "      <td>101348.88</td>\n",
       "      <td>0</td>\n",
       "      <td>0</td>\n",
       "      <td>0</td>\n",
       "    </tr>\n",
       "    <tr>\n",
       "      <th>1</th>\n",
       "      <td>608</td>\n",
       "      <td>41</td>\n",
       "      <td>1</td>\n",
       "      <td>83807.86</td>\n",
       "      <td>1</td>\n",
       "      <td>0</td>\n",
       "      <td>1</td>\n",
       "      <td>112542.58</td>\n",
       "      <td>0</td>\n",
       "      <td>1</td>\n",
       "      <td>0</td>\n",
       "    </tr>\n",
       "    <tr>\n",
       "      <th>2</th>\n",
       "      <td>502</td>\n",
       "      <td>42</td>\n",
       "      <td>8</td>\n",
       "      <td>159660.80</td>\n",
       "      <td>3</td>\n",
       "      <td>1</td>\n",
       "      <td>0</td>\n",
       "      <td>113931.57</td>\n",
       "      <td>0</td>\n",
       "      <td>0</td>\n",
       "      <td>0</td>\n",
       "    </tr>\n",
       "    <tr>\n",
       "      <th>3</th>\n",
       "      <td>699</td>\n",
       "      <td>39</td>\n",
       "      <td>1</td>\n",
       "      <td>0.00</td>\n",
       "      <td>2</td>\n",
       "      <td>0</td>\n",
       "      <td>0</td>\n",
       "      <td>93826.63</td>\n",
       "      <td>0</td>\n",
       "      <td>0</td>\n",
       "      <td>0</td>\n",
       "    </tr>\n",
       "    <tr>\n",
       "      <th>4</th>\n",
       "      <td>850</td>\n",
       "      <td>43</td>\n",
       "      <td>2</td>\n",
       "      <td>125510.82</td>\n",
       "      <td>1</td>\n",
       "      <td>1</td>\n",
       "      <td>1</td>\n",
       "      <td>79084.10</td>\n",
       "      <td>0</td>\n",
       "      <td>1</td>\n",
       "      <td>0</td>\n",
       "    </tr>\n",
       "  </tbody>\n",
       "</table>\n",
       "</div>"
      ],
      "text/plain": [
       "   CreditScore  Age  Tenure    Balance  NumOfProducts  HasCrCard  \\\n",
       "0          619   42       2       0.00              1          1   \n",
       "1          608   41       1   83807.86              1          0   \n",
       "2          502   42       8  159660.80              3          1   \n",
       "3          699   39       1       0.00              2          0   \n",
       "4          850   43       2  125510.82              1          1   \n",
       "\n",
       "   IsActiveMember  EstimatedSalary  Germany  Spain  Male  \n",
       "0               1        101348.88        0      0     0  \n",
       "1               1        112542.58        0      1     0  \n",
       "2               0        113931.57        0      0     0  \n",
       "3               0         93826.63        0      0     0  \n",
       "4               1         79084.10        0      1     0  "
      ]
     },
     "execution_count": 63,
     "metadata": {},
     "output_type": "execute_result"
    }
   ],
   "source": [
    "X.head()"
   ]
  },
  {
   "cell_type": "code",
   "execution_count": 67,
   "metadata": {
    "scrolled": true
   },
   "outputs": [],
   "source": [
    "from sklearn.model_selection import train_test_split\n",
    "x_train, x_test, y_train, y_test = train_test_split(X, y, test_size=0.2, random_state=0)"
   ]
  },
  {
   "cell_type": "code",
   "execution_count": 68,
   "metadata": {},
   "outputs": [
    {
     "data": {
      "text/html": [
       "<div>\n",
       "<style scoped>\n",
       "    .dataframe tbody tr th:only-of-type {\n",
       "        vertical-align: middle;\n",
       "    }\n",
       "\n",
       "    .dataframe tbody tr th {\n",
       "        vertical-align: top;\n",
       "    }\n",
       "\n",
       "    .dataframe thead th {\n",
       "        text-align: right;\n",
       "    }\n",
       "</style>\n",
       "<table border=\"1\" class=\"dataframe\">\n",
       "  <thead>\n",
       "    <tr style=\"text-align: right;\">\n",
       "      <th></th>\n",
       "      <th>CreditScore</th>\n",
       "      <th>Age</th>\n",
       "      <th>Tenure</th>\n",
       "      <th>Balance</th>\n",
       "      <th>NumOfProducts</th>\n",
       "      <th>HasCrCard</th>\n",
       "      <th>IsActiveMember</th>\n",
       "      <th>EstimatedSalary</th>\n",
       "      <th>Germany</th>\n",
       "      <th>Spain</th>\n",
       "      <th>Male</th>\n",
       "    </tr>\n",
       "  </thead>\n",
       "  <tbody>\n",
       "    <tr>\n",
       "      <th>7389</th>\n",
       "      <td>667</td>\n",
       "      <td>34</td>\n",
       "      <td>5</td>\n",
       "      <td>0.00</td>\n",
       "      <td>2</td>\n",
       "      <td>1</td>\n",
       "      <td>0</td>\n",
       "      <td>163830.64</td>\n",
       "      <td>0</td>\n",
       "      <td>1</td>\n",
       "      <td>0</td>\n",
       "    </tr>\n",
       "    <tr>\n",
       "      <th>9275</th>\n",
       "      <td>427</td>\n",
       "      <td>42</td>\n",
       "      <td>1</td>\n",
       "      <td>75681.52</td>\n",
       "      <td>1</td>\n",
       "      <td>1</td>\n",
       "      <td>1</td>\n",
       "      <td>57098.00</td>\n",
       "      <td>1</td>\n",
       "      <td>0</td>\n",
       "      <td>1</td>\n",
       "    </tr>\n",
       "    <tr>\n",
       "      <th>2995</th>\n",
       "      <td>535</td>\n",
       "      <td>29</td>\n",
       "      <td>2</td>\n",
       "      <td>112367.34</td>\n",
       "      <td>1</td>\n",
       "      <td>1</td>\n",
       "      <td>0</td>\n",
       "      <td>185630.76</td>\n",
       "      <td>0</td>\n",
       "      <td>0</td>\n",
       "      <td>0</td>\n",
       "    </tr>\n",
       "    <tr>\n",
       "      <th>5316</th>\n",
       "      <td>654</td>\n",
       "      <td>40</td>\n",
       "      <td>5</td>\n",
       "      <td>105683.63</td>\n",
       "      <td>1</td>\n",
       "      <td>1</td>\n",
       "      <td>0</td>\n",
       "      <td>173617.09</td>\n",
       "      <td>0</td>\n",
       "      <td>1</td>\n",
       "      <td>1</td>\n",
       "    </tr>\n",
       "    <tr>\n",
       "      <th>356</th>\n",
       "      <td>850</td>\n",
       "      <td>57</td>\n",
       "      <td>8</td>\n",
       "      <td>126776.30</td>\n",
       "      <td>2</td>\n",
       "      <td>1</td>\n",
       "      <td>1</td>\n",
       "      <td>132298.49</td>\n",
       "      <td>0</td>\n",
       "      <td>1</td>\n",
       "      <td>0</td>\n",
       "    </tr>\n",
       "  </tbody>\n",
       "</table>\n",
       "</div>"
      ],
      "text/plain": [
       "      CreditScore  Age  Tenure    Balance  NumOfProducts  HasCrCard  \\\n",
       "7389          667   34       5       0.00              2          1   \n",
       "9275          427   42       1   75681.52              1          1   \n",
       "2995          535   29       2  112367.34              1          1   \n",
       "5316          654   40       5  105683.63              1          1   \n",
       "356           850   57       8  126776.30              2          1   \n",
       "\n",
       "      IsActiveMember  EstimatedSalary  Germany  Spain  Male  \n",
       "7389               0        163830.64        0      1     0  \n",
       "9275               1         57098.00        1      0     1  \n",
       "2995               0        185630.76        0      0     0  \n",
       "5316               0        173617.09        0      1     1  \n",
       "356                1        132298.49        0      1     0  "
      ]
     },
     "execution_count": 68,
     "metadata": {},
     "output_type": "execute_result"
    }
   ],
   "source": [
    "x_train.head()"
   ]
  },
  {
   "cell_type": "code",
   "execution_count": 71,
   "metadata": {},
   "outputs": [
    {
     "data": {
      "text/plain": [
       "7389    0\n",
       "9275    0\n",
       "2995    0\n",
       "5316    0\n",
       "356     0\n",
       "Name: Exited, dtype: int64"
      ]
     },
     "execution_count": 71,
     "metadata": {},
     "output_type": "execute_result"
    }
   ],
   "source": [
    "y_train.head()"
   ]
  },
  {
   "cell_type": "code",
   "execution_count": 74,
   "metadata": {},
   "outputs": [],
   "source": [
    "from sklearn.preprocessing import StandardScaler\n",
    "sc = StandardScaler()\n",
    "x_train = sc.fit_transform(x_train)\n",
    "x_test =sc.fit_transform(x_test)"
   ]
  },
  {
   "cell_type": "code",
   "execution_count": 81,
   "metadata": {},
   "outputs": [
    {
     "data": {
      "text/plain": [
       "11"
      ]
     },
     "execution_count": 81,
     "metadata": {},
     "output_type": "execute_result"
    }
   ],
   "source": [
    "x_train.shape[1]"
   ]
  },
  {
   "cell_type": "code",
   "execution_count": 77,
   "metadata": {},
   "outputs": [],
   "source": [
    "import keras"
   ]
  },
  {
   "cell_type": "code",
   "execution_count": 78,
   "metadata": {},
   "outputs": [],
   "source": [
    "from keras.models import Sequential\n",
    "from keras.layers import Dense,Dropout,LeakyReLU,PReLU,ELU"
   ]
  },
  {
   "cell_type": "code",
   "execution_count": 85,
   "metadata": {},
   "outputs": [
    {
     "name": "stdout",
     "output_type": "stream",
     "text": [
      "Model: \"sequential_4\"\n",
      "_________________________________________________________________\n",
      "Layer (type)                 Output Shape              Param #   \n",
      "=================================================================\n",
      "dense_8 (Dense)              (None, 6)                 72        \n",
      "_________________________________________________________________\n",
      "dense_9 (Dense)              (None, 6)                 42        \n",
      "_________________________________________________________________\n",
      "dense_10 (Dense)             (None, 1)                 7         \n",
      "=================================================================\n",
      "Total params: 121\n",
      "Trainable params: 121\n",
      "Non-trainable params: 0\n",
      "_________________________________________________________________\n"
     ]
    }
   ],
   "source": [
    "model = Sequential()\n",
    "model.add(Dense(units =6, kernel_initializer = 'he_uniform', activation='relu',input_dim = 11))\n",
    "model.add(Dense(units =6, kernel_initializer = 'he_uniform', activation='relu'))\n",
    "model.add(Dense(units =1, kernel_initializer = 'glorot_uniform', activation='sigmoid'))\n",
    "model.summary()"
   ]
  },
  {
   "cell_type": "code",
   "execution_count": 86,
   "metadata": {},
   "outputs": [],
   "source": [
    "model.compile(optimizer = 'adam', loss = 'binary_crossentropy', metrics = ['accuracy'])"
   ]
  },
  {
   "cell_type": "code",
   "execution_count": 87,
   "metadata": {},
   "outputs": [
    {
     "name": "stderr",
     "output_type": "stream",
     "text": [
      "C:\\Users\\Mega Providers\\anaconda3\\envs\\dp\\lib\\site-packages\\ipykernel_launcher.py:1: UserWarning: The `nb_epoch` argument in `fit` has been renamed `epochs`.\n",
      "  \"\"\"Entry point for launching an IPython kernel.\n"
     ]
    },
    {
     "name": "stdout",
     "output_type": "stream",
     "text": [
      "Train on 5600 samples, validate on 2400 samples\n",
      "Epoch 1/100\n",
      "5600/5600 [==============================] - 2s 342us/step - loss: 0.5187 - accuracy: 0.7711 - val_loss: 0.4849 - val_accuracy: 0.7950\n",
      "Epoch 2/100\n",
      "5600/5600 [==============================] - 2s 271us/step - loss: 0.4526 - accuracy: 0.7977 - val_loss: 0.4576 - val_accuracy: 0.8000\n",
      "Epoch 3/100\n",
      "5600/5600 [==============================] - 1s 236us/step - loss: 0.4334 - accuracy: 0.8050 - val_loss: 0.4454 - val_accuracy: 0.8037\n",
      "Epoch 4/100\n",
      "5600/5600 [==============================] - 1s 236us/step - loss: 0.4209 - accuracy: 0.8114 - val_loss: 0.4360 - val_accuracy: 0.8075\n",
      "Epoch 5/100\n",
      "5600/5600 [==============================] - 1s 232us/step - loss: 0.4123 - accuracy: 0.8159 - val_loss: 0.4294 - val_accuracy: 0.8100\n",
      "Epoch 6/100\n",
      "5600/5600 [==============================] - 1s 251us/step - loss: 0.4056 - accuracy: 0.8218 - val_loss: 0.4253 - val_accuracy: 0.8096\n",
      "Epoch 7/100\n",
      "5600/5600 [==============================] - 1s 235us/step - loss: 0.4000 - accuracy: 0.8239 - val_loss: 0.4225 - val_accuracy: 0.8112\n",
      "Epoch 8/100\n",
      "5600/5600 [==============================] - 1s 247us/step - loss: 0.3957 - accuracy: 0.8302 - val_loss: 0.4187 - val_accuracy: 0.8117\n",
      "Epoch 9/100\n",
      "5600/5600 [==============================] - 1s 239us/step - loss: 0.3913 - accuracy: 0.8293 - val_loss: 0.4177 - val_accuracy: 0.8154\n",
      "Epoch 10/100\n",
      "5600/5600 [==============================] - 2s 339us/step - loss: 0.3880 - accuracy: 0.8325 - val_loss: 0.4135 - val_accuracy: 0.8171\n",
      "Epoch 11/100\n",
      "5600/5600 [==============================] - 2s 328us/step - loss: 0.3851 - accuracy: 0.8355 - val_loss: 0.4100 - val_accuracy: 0.8204\n",
      "Epoch 12/100\n",
      "5600/5600 [==============================] - 2s 344us/step - loss: 0.3821 - accuracy: 0.8357 - val_loss: 0.4076 - val_accuracy: 0.8233\n",
      "Epoch 13/100\n",
      "5600/5600 [==============================] - 2s 272us/step - loss: 0.3789 - accuracy: 0.8389 - val_loss: 0.4074 - val_accuracy: 0.8246\n",
      "Epoch 14/100\n",
      "5600/5600 [==============================] - 2s 290us/step - loss: 0.3775 - accuracy: 0.8395 - val_loss: 0.4031 - val_accuracy: 0.8250\n",
      "Epoch 15/100\n",
      "5600/5600 [==============================] - 2s 277us/step - loss: 0.3746 - accuracy: 0.8413 - val_loss: 0.4014 - val_accuracy: 0.8263\n",
      "Epoch 16/100\n",
      "5600/5600 [==============================] - 2s 272us/step - loss: 0.3726 - accuracy: 0.8425 - val_loss: 0.3988 - val_accuracy: 0.8275\n",
      "Epoch 17/100\n",
      "5600/5600 [==============================] - 2s 292us/step - loss: 0.3696 - accuracy: 0.8454 - val_loss: 0.3958 - val_accuracy: 0.8317\n",
      "Epoch 18/100\n",
      "5600/5600 [==============================] - 2s 294us/step - loss: 0.3667 - accuracy: 0.8441 - val_loss: 0.3929 - val_accuracy: 0.8329\n",
      "Epoch 19/100\n",
      "5600/5600 [==============================] - 2s 278us/step - loss: 0.3636 - accuracy: 0.8468 - val_loss: 0.3909 - val_accuracy: 0.8350\n",
      "Epoch 20/100\n",
      "5600/5600 [==============================] - 2s 310us/step - loss: 0.3606 - accuracy: 0.8487 - val_loss: 0.3874 - val_accuracy: 0.8363\n",
      "Epoch 21/100\n",
      "5600/5600 [==============================] - 2s 289us/step - loss: 0.3561 - accuracy: 0.8516 - val_loss: 0.3847 - val_accuracy: 0.8358\n",
      "Epoch 22/100\n",
      "5600/5600 [==============================] - 2s 280us/step - loss: 0.3511 - accuracy: 0.8529 - val_loss: 0.3835 - val_accuracy: 0.8371\n",
      "Epoch 23/100\n",
      "5600/5600 [==============================] - 2s 275us/step - loss: 0.3479 - accuracy: 0.8546 - val_loss: 0.3783 - val_accuracy: 0.8467\n",
      "Epoch 24/100\n",
      "5600/5600 [==============================] - 2s 293us/step - loss: 0.3443 - accuracy: 0.8582 - val_loss: 0.3767 - val_accuracy: 0.8454\n",
      "Epoch 25/100\n",
      "5600/5600 [==============================] - 2s 280us/step - loss: 0.3410 - accuracy: 0.8602 - val_loss: 0.3749 - val_accuracy: 0.8492\n",
      "Epoch 26/100\n",
      "5600/5600 [==============================] - 2s 281us/step - loss: 0.3387 - accuracy: 0.8620 - val_loss: 0.3715 - val_accuracy: 0.8492\n",
      "Epoch 27/100\n",
      "5600/5600 [==============================] - 2s 272us/step - loss: 0.3363 - accuracy: 0.8630 - val_loss: 0.3743 - val_accuracy: 0.8450\n",
      "Epoch 28/100\n",
      "5600/5600 [==============================] - 2s 280us/step - loss: 0.3354 - accuracy: 0.8607 - val_loss: 0.3702 - val_accuracy: 0.8504\n",
      "Epoch 29/100\n",
      "5600/5600 [==============================] - 2s 308us/step - loss: 0.3335 - accuracy: 0.8650 - val_loss: 0.3681 - val_accuracy: 0.8496\n",
      "Epoch 30/100\n",
      "5600/5600 [==============================] - 2s 306us/step - loss: 0.3323 - accuracy: 0.8632 - val_loss: 0.3666 - val_accuracy: 0.8517\n",
      "Epoch 31/100\n",
      "5600/5600 [==============================] - 2s 309us/step - loss: 0.3314 - accuracy: 0.8654 - val_loss: 0.3671 - val_accuracy: 0.8533\n",
      "Epoch 32/100\n",
      "5600/5600 [==============================] - 2s 298us/step - loss: 0.3308 - accuracy: 0.8637 - val_loss: 0.3659 - val_accuracy: 0.8517\n",
      "Epoch 33/100\n",
      "5600/5600 [==============================] - 2s 286us/step - loss: 0.3298 - accuracy: 0.8664 - val_loss: 0.3652 - val_accuracy: 0.8537\n",
      "Epoch 34/100\n",
      "5600/5600 [==============================] - 2s 362us/step - loss: 0.3295 - accuracy: 0.8641 - val_loss: 0.3650 - val_accuracy: 0.8537\n",
      "Epoch 35/100\n",
      "5600/5600 [==============================] - 2s 358us/step - loss: 0.3289 - accuracy: 0.8646 - val_loss: 0.3640 - val_accuracy: 0.8550\n",
      "Epoch 36/100\n",
      "5600/5600 [==============================] - 2s 307us/step - loss: 0.3282 - accuracy: 0.8654 - val_loss: 0.3642 - val_accuracy: 0.8546\n",
      "Epoch 37/100\n",
      "5600/5600 [==============================] - 2s 334us/step - loss: 0.3279 - accuracy: 0.8648 - val_loss: 0.3620 - val_accuracy: 0.8554\n",
      "Epoch 38/100\n",
      "5600/5600 [==============================] - 1s 250us/step - loss: 0.3274 - accuracy: 0.8620 - val_loss: 0.3625 - val_accuracy: 0.8537\n",
      "Epoch 39/100\n",
      "5600/5600 [==============================] - 1s 235us/step - loss: 0.3268 - accuracy: 0.8648 - val_loss: 0.3634 - val_accuracy: 0.8542\n",
      "Epoch 40/100\n",
      "5600/5600 [==============================] - 1s 228us/step - loss: 0.3265 - accuracy: 0.8662 - val_loss: 0.3629 - val_accuracy: 0.8537\n",
      "Epoch 41/100\n",
      "5600/5600 [==============================] - 1s 265us/step - loss: 0.3270 - accuracy: 0.8630 - val_loss: 0.3629 - val_accuracy: 0.8558\n",
      "Epoch 42/100\n",
      "5600/5600 [==============================] - 2s 325us/step - loss: 0.3264 - accuracy: 0.8641 - val_loss: 0.3626 - val_accuracy: 0.8537\n",
      "Epoch 43/100\n",
      "5600/5600 [==============================] - 2s 408us/step - loss: 0.3260 - accuracy: 0.8655 - val_loss: 0.3622 - val_accuracy: 0.8542\n",
      "Epoch 44/100\n",
      "5600/5600 [==============================] - 1s 247us/step - loss: 0.3263 - accuracy: 0.8677 - val_loss: 0.3636 - val_accuracy: 0.8550\n",
      "Epoch 45/100\n",
      "5600/5600 [==============================] - 1s 250us/step - loss: 0.3259 - accuracy: 0.8662 - val_loss: 0.3625 - val_accuracy: 0.8546\n",
      "Epoch 46/100\n",
      "5600/5600 [==============================] - 2s 285us/step - loss: 0.3255 - accuracy: 0.8643 - val_loss: 0.3622 - val_accuracy: 0.8550\n",
      "Epoch 47/100\n",
      "5600/5600 [==============================] - 2s 351us/step - loss: 0.3256 - accuracy: 0.8668 - val_loss: 0.3626 - val_accuracy: 0.8546\n",
      "Epoch 48/100\n",
      "5600/5600 [==============================] - 2s 301us/step - loss: 0.3256 - accuracy: 0.8636 - val_loss: 0.3629 - val_accuracy: 0.8546\n",
      "Epoch 49/100\n",
      "5600/5600 [==============================] - 2s 292us/step - loss: 0.3251 - accuracy: 0.8648 - val_loss: 0.3622 - val_accuracy: 0.8550\n",
      "Epoch 50/100\n",
      "5600/5600 [==============================] - 2s 351us/step - loss: 0.3254 - accuracy: 0.8654 - val_loss: 0.3622 - val_accuracy: 0.8558\n",
      "Epoch 51/100\n",
      "5600/5600 [==============================] - 2s 371us/step - loss: 0.3251 - accuracy: 0.8650 - val_loss: 0.3621 - val_accuracy: 0.8542\n",
      "Epoch 52/100\n",
      "5600/5600 [==============================] - 2s 331us/step - loss: 0.3252 - accuracy: 0.8661 - val_loss: 0.3609 - val_accuracy: 0.8554\n",
      "Epoch 53/100\n",
      "5600/5600 [==============================] - 1s 264us/step - loss: 0.3245 - accuracy: 0.8675 - val_loss: 0.3616 - val_accuracy: 0.8542\n",
      "Epoch 54/100\n",
      "5600/5600 [==============================] - 1s 258us/step - loss: 0.3245 - accuracy: 0.8664 - val_loss: 0.3614 - val_accuracy: 0.8537\n",
      "Epoch 55/100\n",
      "5600/5600 [==============================] - 1s 252us/step - loss: 0.3246 - accuracy: 0.8659 - val_loss: 0.3599 - val_accuracy: 0.8558\n",
      "Epoch 56/100\n"
     ]
    },
    {
     "name": "stdout",
     "output_type": "stream",
     "text": [
      "5600/5600 [==============================] - 1s 252us/step - loss: 0.3245 - accuracy: 0.8661 - val_loss: 0.3601 - val_accuracy: 0.8567\n",
      "Epoch 57/100\n",
      "5600/5600 [==============================] - 1s 267us/step - loss: 0.3245 - accuracy: 0.8655 - val_loss: 0.3591 - val_accuracy: 0.8587\n",
      "Epoch 58/100\n",
      "5600/5600 [==============================] - 1s 260us/step - loss: 0.3239 - accuracy: 0.8673 - val_loss: 0.3604 - val_accuracy: 0.8558\n",
      "Epoch 59/100\n",
      "5600/5600 [==============================] - 1s 255us/step - loss: 0.3240 - accuracy: 0.8655 - val_loss: 0.3608 - val_accuracy: 0.8567\n",
      "Epoch 60/100\n",
      "5600/5600 [==============================] - 2s 313us/step - loss: 0.3243 - accuracy: 0.8668 - val_loss: 0.3593 - val_accuracy: 0.8562\n",
      "Epoch 61/100\n",
      "5600/5600 [==============================] - 1s 245us/step - loss: 0.3241 - accuracy: 0.8657 - val_loss: 0.3599 - val_accuracy: 0.8550\n",
      "Epoch 62/100\n",
      "5600/5600 [==============================] - 1s 250us/step - loss: 0.3244 - accuracy: 0.8646 - val_loss: 0.3597 - val_accuracy: 0.8567\n",
      "Epoch 63/100\n",
      "5600/5600 [==============================] - 1s 245us/step - loss: 0.3237 - accuracy: 0.8652 - val_loss: 0.3611 - val_accuracy: 0.8554\n",
      "Epoch 64/100\n",
      "5600/5600 [==============================] - 1s 263us/step - loss: 0.3237 - accuracy: 0.8654 - val_loss: 0.3595 - val_accuracy: 0.8546\n",
      "Epoch 65/100\n",
      "5600/5600 [==============================] - 1s 246us/step - loss: 0.3239 - accuracy: 0.8666 - val_loss: 0.3595 - val_accuracy: 0.8542\n",
      "Epoch 66/100\n",
      "5600/5600 [==============================] - 1s 244us/step - loss: 0.3235 - accuracy: 0.8657 - val_loss: 0.3598 - val_accuracy: 0.8567\n",
      "Epoch 67/100\n",
      "5600/5600 [==============================] - 1s 245us/step - loss: 0.3233 - accuracy: 0.8662 - val_loss: 0.3594 - val_accuracy: 0.8542\n",
      "Epoch 68/100\n",
      "5600/5600 [==============================] - 1s 244us/step - loss: 0.3238 - accuracy: 0.8666 - val_loss: 0.3595 - val_accuracy: 0.8567\n",
      "Epoch 69/100\n",
      "5600/5600 [==============================] - 1s 257us/step - loss: 0.3236 - accuracy: 0.8646 - val_loss: 0.3592 - val_accuracy: 0.8562\n",
      "Epoch 70/100\n",
      "5600/5600 [==============================] - 2s 340us/step - loss: 0.3232 - accuracy: 0.8646 - val_loss: 0.3599 - val_accuracy: 0.8558\n",
      "Epoch 71/100\n",
      "5600/5600 [==============================] - 2s 316us/step - loss: 0.3228 - accuracy: 0.8664 - val_loss: 0.3611 - val_accuracy: 0.8521\n",
      "Epoch 72/100\n",
      "5600/5600 [==============================] - 2s 353us/step - loss: 0.3233 - accuracy: 0.8664 - val_loss: 0.3609 - val_accuracy: 0.8542\n",
      "Epoch 73/100\n",
      "5600/5600 [==============================] - 1s 261us/step - loss: 0.3231 - accuracy: 0.8657 - val_loss: 0.3605 - val_accuracy: 0.8517\n",
      "Epoch 74/100\n",
      "5600/5600 [==============================] - 2s 332us/step - loss: 0.3226 - accuracy: 0.8659 - val_loss: 0.3621 - val_accuracy: 0.8533\n",
      "Epoch 75/100\n",
      "5600/5600 [==============================] - 2s 438us/step - loss: 0.3233 - accuracy: 0.8664 - val_loss: 0.3603 - val_accuracy: 0.8537\n",
      "Epoch 76/100\n",
      "5600/5600 [==============================] - 1s 249us/step - loss: 0.3227 - accuracy: 0.8668 - val_loss: 0.3597 - val_accuracy: 0.8558\n",
      "Epoch 77/100\n",
      "5600/5600 [==============================] - 2s 270us/step - loss: 0.3233 - accuracy: 0.8657 - val_loss: 0.3602 - val_accuracy: 0.8529\n",
      "Epoch 78/100\n",
      "5600/5600 [==============================] - 1s 241us/step - loss: 0.3234 - accuracy: 0.8652 - val_loss: 0.3596 - val_accuracy: 0.8575\n",
      "Epoch 79/100\n",
      "5600/5600 [==============================] - 1s 254us/step - loss: 0.3229 - accuracy: 0.8662 - val_loss: 0.3601 - val_accuracy: 0.8558\n",
      "Epoch 80/100\n",
      "5600/5600 [==============================] - 1s 245us/step - loss: 0.3226 - accuracy: 0.8659 - val_loss: 0.3609 - val_accuracy: 0.8517\n",
      "Epoch 81/100\n",
      "5600/5600 [==============================] - 1s 244us/step - loss: 0.3230 - accuracy: 0.8673 - val_loss: 0.3622 - val_accuracy: 0.8542\n",
      "Epoch 82/100\n",
      "5600/5600 [==============================] - 1s 243us/step - loss: 0.3231 - accuracy: 0.8666 - val_loss: 0.3620 - val_accuracy: 0.8533\n",
      "Epoch 83/100\n",
      "5600/5600 [==============================] - 1s 241us/step - loss: 0.3229 - accuracy: 0.8639 - val_loss: 0.3619 - val_accuracy: 0.8537\n",
      "Epoch 84/100\n",
      "5600/5600 [==============================] - 1s 244us/step - loss: 0.3226 - accuracy: 0.8675 - val_loss: 0.3613 - val_accuracy: 0.8529\n",
      "Epoch 85/100\n",
      "5600/5600 [==============================] - 1s 243us/step - loss: 0.3223 - accuracy: 0.8670 - val_loss: 0.3623 - val_accuracy: 0.8542\n",
      "Epoch 86/100\n",
      "5600/5600 [==============================] - 1s 240us/step - loss: 0.3229 - accuracy: 0.8662 - val_loss: 0.3595 - val_accuracy: 0.8542\n",
      "Epoch 87/100\n",
      "5600/5600 [==============================] - 1s 242us/step - loss: 0.3229 - accuracy: 0.8675 - val_loss: 0.3605 - val_accuracy: 0.8529\n",
      "Epoch 88/100\n",
      "5600/5600 [==============================] - 1s 240us/step - loss: 0.3229 - accuracy: 0.8668 - val_loss: 0.3599 - val_accuracy: 0.8529\n",
      "Epoch 89/100\n",
      "5600/5600 [==============================] - 2s 316us/step - loss: 0.3229 - accuracy: 0.8666 - val_loss: 0.3598 - val_accuracy: 0.8546\n",
      "Epoch 90/100\n",
      "5600/5600 [==============================] - 2s 301us/step - loss: 0.3224 - accuracy: 0.8695 - val_loss: 0.3621 - val_accuracy: 0.8542\n",
      "Epoch 91/100\n",
      "5600/5600 [==============================] - 2s 339us/step - loss: 0.3226 - accuracy: 0.8654 - val_loss: 0.3609 - val_accuracy: 0.8550\n",
      "Epoch 92/100\n",
      "5600/5600 [==============================] - 2s 311us/step - loss: 0.3227 - accuracy: 0.8662 - val_loss: 0.3604 - val_accuracy: 0.8554\n",
      "Epoch 93/100\n",
      "5600/5600 [==============================] - 2s 368us/step - loss: 0.3221 - accuracy: 0.8696 - val_loss: 0.3606 - val_accuracy: 0.8537\n",
      "Epoch 94/100\n",
      "5600/5600 [==============================] - 2s 313us/step - loss: 0.3228 - accuracy: 0.8675 - val_loss: 0.3614 - val_accuracy: 0.8542\n",
      "Epoch 95/100\n",
      "5600/5600 [==============================] - 1s 258us/step - loss: 0.3229 - accuracy: 0.8664 - val_loss: 0.3595 - val_accuracy: 0.8550\n",
      "Epoch 96/100\n",
      "5600/5600 [==============================] - 1s 262us/step - loss: 0.3225 - accuracy: 0.8673 - val_loss: 0.3615 - val_accuracy: 0.8537\n",
      "Epoch 97/100\n",
      "5600/5600 [==============================] - 1s 244us/step - loss: 0.3228 - accuracy: 0.8675 - val_loss: 0.3606 - val_accuracy: 0.8542\n",
      "Epoch 98/100\n",
      "5600/5600 [==============================] - 1s 241us/step - loss: 0.3228 - accuracy: 0.8670 - val_loss: 0.3598 - val_accuracy: 0.8550\n",
      "Epoch 99/100\n",
      "5600/5600 [==============================] - 1s 245us/step - loss: 0.3222 - accuracy: 0.8666 - val_loss: 0.3600 - val_accuracy: 0.8542\n",
      "Epoch 100/100\n",
      "5600/5600 [==============================] - 1s 242us/step - loss: 0.3225 - accuracy: 0.8675 - val_loss: 0.3601 - val_accuracy: 0.8546\n"
     ]
    }
   ],
   "source": [
    "model_history = model.fit(x_train,y_train, validation_split=0.3, batch_size = 10, nb_epoch =100)"
   ]
  },
  {
   "cell_type": "code",
   "execution_count": 88,
   "metadata": {},
   "outputs": [
    {
     "name": "stdout",
     "output_type": "stream",
     "text": [
      "dict_keys(['val_loss', 'val_accuracy', 'loss', 'accuracy'])\n"
     ]
    }
   ],
   "source": [
    "print(model_history.history.keys())"
   ]
  },
  {
   "cell_type": "code",
   "execution_count": 95,
   "metadata": {},
   "outputs": [
    {
     "data": {
      "image/png": "[encoded data removed]",
      "text/plain": [
       "<Figure size 432x288 with 1 Axes>"
      ]
     },
     "metadata": {
      "needs_background": "light"
     },
     "output_type": "display_data"
    }
   ],
   "source": [
    "plt.plot(model_history.history['accuracy'])\n",
    "plt.plot(model_history.history['val_accuracy'])\n",
    "plt.title('model accuracy')\n",
    "plt.ylabel('accuracy')\n",
    "plt.xlabel('epoch')\n",
    "plt.legend(['train','validation'], loc = 'upper left')\n",
    "plt.grid()\n",
    "plt.show()"
   ]
  },
  {
   "cell_type": "code",
   "execution_count": 97,
   "metadata": {},
   "outputs": [
    {
     "name": "stdout",
     "output_type": "stream",
     "text": [
      "[[0.2785618 ]\n",
      " [0.24943581]\n",
      " [0.09592558]\n",
      " ...\n",
      " [0.1765558 ]\n",
      " [0.13560723]\n",
      " [0.22918001]]\n"
     ]
    }
   ],
   "source": [
    "y_pred = model.predict(x_test)\n",
    "print(y_pred)"
   ]
  },
  {
   "cell_type": "code",
   "execution_count": 98,
   "metadata": {},
   "outputs": [],
   "source": [
    "y_pred = (y_pred >0.5)"
   ]
  },
  {
   "cell_type": "code",
   "execution_count": 99,
   "metadata": {},
   "outputs": [
    {
     "name": "stdout",
     "output_type": "stream",
     "text": [
      "[[False]\n",
      " [False]\n",
      " [False]\n",
      " ...\n",
      " [False]\n",
      " [False]\n",
      " [False]]\n"
     ]
    }
   ],
   "source": [
    "print(y_pred)"
   ]
  },
  {
   "cell_type": "code",
   "execution_count": 111,
   "metadata": {},
   "outputs": [
    {
     "data": {
      "text/plain": [
       "<AxesSubplot:>"
      ]
     },
     "execution_count": 111,
     "metadata": {},
     "output_type": "execute_result"
    },
    {
     "data": {
      "image/png": "[encoded data removed]",
      "text/plain": [
       "<Figure size 432x288 with 1 Axes>"
      ]
     },
     "metadata": {
      "needs_background": "light"
     },
     "output_type": "display_data"
    }
   ],
   "source": [
    "from sklearn.metrics import confusion_matrix\n",
    "conf_mat = confusion_matrix(y_test, y_pred)\n",
    "sns.heatmap(conf_mat, square=True, annot=True, cmap='Blues', fmt='d', cbar=False)"
   ]
  },
  {
   "cell_type": "code",
   "execution_count": 114,
   "metadata": {},
   "outputs": [
    {
     "data": {
      "text/plain": [
       "array([0.91464891, 0.59482759])"
      ]
     },
     "execution_count": 114,
     "metadata": {},
     "output_type": "execute_result"
    }
   ],
   "source": [
    "from sklearn.metrics import f1_score\n",
    "f1_score(y_test, y_pred, average=None)"
   ]
  },
  {
   "cell_type": "code",
   "execution_count": null,
   "metadata": {},
   "outputs": [],
   "source": []
  }
 ],
 "metadata": {
  "kernelspec": {
   "display_name": "Python 3",
   "language": "python",
   "name": "python3"
  },
  "language_info": {
   "codemirror_mode": {
    "name": "ipython",
    "version": 3
   },
   "file_extension": ".py",
   "mimetype": "text/x-python",
   "name": "python",
   "nbconvert_exporter": "python",
   "pygments_lexer": "ipython3",
   "version": "3.7.9"
  }
 },
 "nbformat": 4,
 "nbformat_minor": 4
}
